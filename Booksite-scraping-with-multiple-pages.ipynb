{
 "cells": [
  {
   "cell_type": "code",
   "execution_count": 1,
   "id": "20621a01-26f7-49ef-b09c-462ba02f586f",
   "metadata": {},
   "outputs": [],
   "source": [
    "import requests\n",
    "from bs4 import BeautifulSoup\n",
    "import pandas as pd\n",
    "\n",
    "books = []\n",
    "\n",
    "for i in range(1,5):\n",
    "  url = f\"https://books.toscrape.com/catalogue/page-{i}.html\"\n",
    "  response = requests.get(url)\n",
    "  response = response.content\n",
    "  soup = BeautifulSoup(response, 'html.parser')\n",
    "  ol = soup.find('ol')\n",
    "  articles = ol.find_all('article', class_='product_pod')\n",
    "  for article in articles:\n",
    "    image = article.find('img')\n",
    "    title = image.attrs['alt']\n",
    "    starTag = article.find('p')\n",
    "    star = starTag['class'][1]\n",
    "    price = article.find('p', class_='price_color').text\n",
    "    price = float(price[1:])\n",
    "    books.append([title, star, price])\n",
    "    \n",
    "\n",
    "df = pd.DataFrame(books, columns=['Title', 'Star Rating', 'Price'])\n",
    "df.to_csv('books.csv')"
   ]
  },
  {
   "cell_type": "code",
   "execution_count": 2,
   "id": "674919c2-2a00-4ad0-9e29-4e5a61837d52",
   "metadata": {},
   "outputs": [
    {
     "name": "stdout",
     "output_type": "stream",
     "text": [
      "                                                Title Star Rating  Price\n",
      "0                                A Light in the Attic       Three  51.77\n",
      "1                                  Tipping the Velvet         One  53.74\n",
      "2                                          Soumission         One  50.10\n",
      "3                                       Sharp Objects        Four  47.82\n",
      "4               Sapiens: A Brief History of Humankind        Five  54.23\n",
      "..                                                ...         ...    ...\n",
      "75                                           Security         Two  39.25\n",
      "76      Saga, Volume 6 (Saga (Collected Editions) #6)       Three  25.02\n",
      "77      Saga, Volume 5 (Saga (Collected Editions) #5)         Two  51.04\n",
      "78  Reskilling America: Learning to Labor in the T...         Two  19.83\n",
      "79  Rat Queens, Vol. 3: Demons (Rat Queens (Collec...       Three  50.40\n",
      "\n",
      "[80 rows x 3 columns]\n"
     ]
    }
   ],
   "source": [
    "print(df)"
   ]
  },
  {
   "cell_type": "code",
   "execution_count": null,
   "id": "e354a539-2ee6-4779-8954-2f4e32b80334",
   "metadata": {},
   "outputs": [],
   "source": []
  }
 ],
 "metadata": {
  "kernelspec": {
   "display_name": "Python 3 (ipykernel)",
   "language": "python",
   "name": "python3"
  },
  "language_info": {
   "codemirror_mode": {
    "name": "ipython",
    "version": 3
   },
   "file_extension": ".py",
   "mimetype": "text/x-python",
   "name": "python",
   "nbconvert_exporter": "python",
   "pygments_lexer": "ipython3",
   "version": "3.11.4"
  }
 },
 "nbformat": 4,
 "nbformat_minor": 5
}
